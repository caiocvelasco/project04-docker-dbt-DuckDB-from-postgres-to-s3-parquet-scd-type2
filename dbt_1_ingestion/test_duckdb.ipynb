{
 "cells": [
  {
   "cell_type": "code",
   "execution_count": 6,
   "metadata": {},
   "outputs": [],
   "source": [
    "import duckdb\n",
    "import pandas as pd\n",
    "\n",
    "# Path to your DuckDB database file\n",
    "duckdb_file_path = '/workspace/databases/dev.duckdb'"
   ]
  },
  {
   "cell_type": "code",
   "execution_count": 7,
   "metadata": {},
   "outputs": [
    {
     "name": "stdout",
     "output_type": "stream",
     "text": [
      "Databases:\n",
      "  database_name\n",
      "0           dev\n"
     ]
    }
   ],
   "source": [
    "# Use a context manager to handle the DuckDB connection\n",
    "with duckdb.connect(duckdb_file_path) as con:\n",
    "    # Query all schemas\n",
    "    query_dbs = \"SHOW DATABASES;\"\n",
    "    dbs = con.execute(query_dbs).fetchdf()\n",
    "    \n",
    "    # Print the DataFrame of schemas\n",
    "    print(\"Databases:\")\n",
    "    print(dbs)"
   ]
  },
  {
   "cell_type": "code",
   "execution_count": 8,
   "metadata": {},
   "outputs": [
    {
     "name": "stdout",
     "output_type": "stream",
     "text": [
      "Schemas:\n",
      "  catalog_name         schema_name schema_owner default_character_set_catalog  \\\n",
      "0          dev            dbt_caio       duckdb                          None   \n",
      "1          dev  information_schema       duckdb                          None   \n",
      "2          dev                main       duckdb                          None   \n",
      "3          dev          pg_catalog       duckdb                          None   \n",
      "4       system  information_schema       duckdb                          None   \n",
      "5       system                main       duckdb                          None   \n",
      "6       system          pg_catalog       duckdb                          None   \n",
      "7         temp  information_schema       duckdb                          None   \n",
      "8         temp                main       duckdb                          None   \n",
      "9         temp          pg_catalog       duckdb                          None   \n",
      "\n",
      "  default_character_set_schema default_character_set_name sql_path  \n",
      "0                         None                       None     None  \n",
      "1                         None                       None     None  \n",
      "2                         None                       None     None  \n",
      "3                         None                       None     None  \n",
      "4                         None                       None     None  \n",
      "5                         None                       None     None  \n",
      "6                         None                       None     None  \n",
      "7                         None                       None     None  \n",
      "8                         None                       None     None  \n",
      "9                         None                       None     None  \n",
      "\n",
      "Tables:\n",
      "  table_schema            table_name\n",
      "0     dbt_caio             customers\n",
      "1     dbt_caio                 dates\n",
      "2     dbt_caio              products\n",
      "3     dbt_caio         product_usage\n",
      "4     dbt_caio         subscriptions\n",
      "5     dbt_caio  support_interactions\n"
     ]
    }
   ],
   "source": [
    "# Use a context manager to handle the DuckDB connection\n",
    "with duckdb.connect(duckdb_file_path) as con:\n",
    "    # Query all schemas\n",
    "    query_schemas = \"SELECT * FROM information_schema.schemata\"\n",
    "    schemas = con.execute(query_schemas).fetchdf()\n",
    "    \n",
    "    # Print the DataFrame of schemas\n",
    "    print(\"Schemas:\")\n",
    "    print(schemas)\n",
    "    \n",
    "    # Query all tables in each schema\n",
    "    query_tables = \"\"\"\n",
    "    SELECT table_schema, table_name \n",
    "    FROM information_schema.tables \n",
    "    WHERE table_schema IN (SELECT schema_name FROM information_schema.schemata)\n",
    "    \"\"\"\n",
    "    tables = con.execute(query_tables).fetchdf()\n",
    "    \n",
    "    # Print the DataFrame of tables\n",
    "    print(\"\\nTables:\")\n",
    "    print(tables)\n",
    "\n"
   ]
  },
  {
   "cell_type": "code",
   "execution_count": null,
   "metadata": {},
   "outputs": [],
   "source": [
    "# Use a context manager to handle the DuckDB connection\n",
    "# with duckdb.connect(duckdb_file_path) as con:\n",
    "#     # Query to delete tables\n",
    "#     # query_delete_bronze = \"DROP SCHEMA raw CASCADE;\"\n",
    "#     query_delete_dbt_caio = \"DROP SCHEMA dbt_caio CASCADE;\"\n",
    "#     # query_delete_bronze = \"DROP SCHEMA bronze CASCADE;\"\n",
    "#     # query_delete_silver = \"DROP SCHEMA silver CASCADE;\"\n",
    "#     # query_delete_gold = \"DROP SCHEMA gold CASCADE;\"\n",
    "#     con.execute(query_delete_dbt_caio)\n",
    "#     # con.execute(query_delete_bronze)\n",
    "#     # con.execute(query_delete_silver)\n",
    "#     # con.execute(query_delete_gold)"
   ]
  }
 ],
 "metadata": {
  "kernelspec": {
   "display_name": "Python 3",
   "language": "python",
   "name": "python3"
  },
  "language_info": {
   "codemirror_mode": {
    "name": "ipython",
    "version": 3
   },
   "file_extension": ".py",
   "mimetype": "text/x-python",
   "name": "python",
   "nbconvert_exporter": "python",
   "pygments_lexer": "ipython3",
   "version": "3.9.13"
  }
 },
 "nbformat": 4,
 "nbformat_minor": 2
}
